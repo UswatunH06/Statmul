{
  "nbformat": 4,
  "nbformat_minor": 0,
  "metadata": {
    "colab": {
      "provenance": [],
      "authorship_tag": "ABX9TyMIEoSuxCYrfyIXMZrE7ZzC",
      "include_colab_link": true
    },
    "kernelspec": {
      "name": "python3",
      "display_name": "Python 3"
    },
    "language_info": {
      "name": "python"
    }
  },
  "cells": [
    {
      "cell_type": "markdown",
      "metadata": {
        "id": "view-in-github",
        "colab_type": "text"
      },
      "source": [
        "<a href=\"https://colab.research.google.com/github/UswatunH06/Statmul/blob/main/Remedial_Statmul_Uswatun_Hasanah_Analisis_Turf.ipynb\" target=\"_parent\"><img src=\"https://colab.research.google.com/assets/colab-badge.svg\" alt=\"Open In Colab\"/></a>"
      ]
    },
    {
      "cell_type": "markdown",
      "source": [
        "Nama   : Uswatun Hasanah\n",
        "\n",
        "Nim    : 11220940000053\n",
        "\n",
        "Kelas : 6B\n",
        "\n",
        "Mata Kuliah : Statistika Multivariat\n",
        "\n",
        "Remedial Metode Turf"
      ],
      "metadata": {
        "id": "ehvYeZ4K7ZAF"
      }
    },
    {
      "cell_type": "markdown",
      "source": [
        "# **Preferensi Siswa terhadap Fitur Bimbingan Belajar: Analisis TURF untuk Menentukan Kombinasi Fitur Optimal**"
      ],
      "metadata": {
        "id": "9NxYK4P5vRpl"
      }
    },
    {
      "cell_type": "markdown",
      "source": [
        "# Install dan Import Library"
      ],
      "metadata": {
        "id": "eMNsK_yy3C5P"
      }
    },
    {
      "cell_type": "code",
      "source": [
        "!pip install pingouin"
      ],
      "metadata": {
        "colab": {
          "base_uri": "https://localhost:8080/"
        },
        "id": "A8-iB6xriw9t",
        "outputId": "fbfb727d-98b3-4185-e327-6f87cf5766e8"
      },
      "execution_count": null,
      "outputs": [
        {
          "output_type": "stream",
          "name": "stdout",
          "text": [
            "Collecting pingouin\n",
            "  Downloading pingouin-0.5.5-py3-none-any.whl.metadata (19 kB)\n",
            "Requirement already satisfied: matplotlib in /usr/local/lib/python3.11/dist-packages (from pingouin) (3.10.0)\n",
            "Requirement already satisfied: numpy in /usr/local/lib/python3.11/dist-packages (from pingouin) (2.0.2)\n",
            "Requirement already satisfied: pandas>=1.5 in /usr/local/lib/python3.11/dist-packages (from pingouin) (2.2.2)\n",
            "Collecting pandas-flavor (from pingouin)\n",
            "  Downloading pandas_flavor-0.7.0-py3-none-any.whl.metadata (6.7 kB)\n",
            "Requirement already satisfied: scikit-learn>=1.2 in /usr/local/lib/python3.11/dist-packages (from pingouin) (1.6.1)\n",
            "Requirement already satisfied: scipy in /usr/local/lib/python3.11/dist-packages (from pingouin) (1.15.3)\n",
            "Requirement already satisfied: seaborn in /usr/local/lib/python3.11/dist-packages (from pingouin) (0.13.2)\n",
            "Requirement already satisfied: statsmodels in /usr/local/lib/python3.11/dist-packages (from pingouin) (0.14.4)\n",
            "Requirement already satisfied: tabulate in /usr/local/lib/python3.11/dist-packages (from pingouin) (0.9.0)\n",
            "Requirement already satisfied: python-dateutil>=2.8.2 in /usr/local/lib/python3.11/dist-packages (from pandas>=1.5->pingouin) (2.9.0.post0)\n",
            "Requirement already satisfied: pytz>=2020.1 in /usr/local/lib/python3.11/dist-packages (from pandas>=1.5->pingouin) (2025.2)\n",
            "Requirement already satisfied: tzdata>=2022.7 in /usr/local/lib/python3.11/dist-packages (from pandas>=1.5->pingouin) (2025.2)\n",
            "Requirement already satisfied: joblib>=1.2.0 in /usr/local/lib/python3.11/dist-packages (from scikit-learn>=1.2->pingouin) (1.5.0)\n",
            "Requirement already satisfied: threadpoolctl>=3.1.0 in /usr/local/lib/python3.11/dist-packages (from scikit-learn>=1.2->pingouin) (3.6.0)\n",
            "Requirement already satisfied: contourpy>=1.0.1 in /usr/local/lib/python3.11/dist-packages (from matplotlib->pingouin) (1.3.2)\n",
            "Requirement already satisfied: cycler>=0.10 in /usr/local/lib/python3.11/dist-packages (from matplotlib->pingouin) (0.12.1)\n",
            "Requirement already satisfied: fonttools>=4.22.0 in /usr/local/lib/python3.11/dist-packages (from matplotlib->pingouin) (4.58.0)\n",
            "Requirement already satisfied: kiwisolver>=1.3.1 in /usr/local/lib/python3.11/dist-packages (from matplotlib->pingouin) (1.4.8)\n",
            "Requirement already satisfied: packaging>=20.0 in /usr/local/lib/python3.11/dist-packages (from matplotlib->pingouin) (24.2)\n",
            "Requirement already satisfied: pillow>=8 in /usr/local/lib/python3.11/dist-packages (from matplotlib->pingouin) (11.2.1)\n",
            "Requirement already satisfied: pyparsing>=2.3.1 in /usr/local/lib/python3.11/dist-packages (from matplotlib->pingouin) (3.2.3)\n",
            "Requirement already satisfied: xarray in /usr/local/lib/python3.11/dist-packages (from pandas-flavor->pingouin) (2025.3.1)\n",
            "Requirement already satisfied: patsy>=0.5.6 in /usr/local/lib/python3.11/dist-packages (from statsmodels->pingouin) (1.0.1)\n",
            "Requirement already satisfied: six>=1.5 in /usr/local/lib/python3.11/dist-packages (from python-dateutil>=2.8.2->pandas>=1.5->pingouin) (1.17.0)\n",
            "Downloading pingouin-0.5.5-py3-none-any.whl (204 kB)\n",
            "\u001b[2K   \u001b[90m━━━━━━━━━━━━━━━━━━━━━━━━━━━━━━━━━━━━━━━━\u001b[0m \u001b[32m204.4/204.4 kB\u001b[0m \u001b[31m4.5 MB/s\u001b[0m eta \u001b[36m0:00:00\u001b[0m\n",
            "\u001b[?25hDownloading pandas_flavor-0.7.0-py3-none-any.whl (8.4 kB)\n",
            "Installing collected packages: pandas-flavor, pingouin\n",
            "Successfully installed pandas-flavor-0.7.0 pingouin-0.5.5\n"
          ]
        }
      ]
    },
    {
      "cell_type": "code",
      "source": [
        "#Import Library\n",
        "import pandas as pd\n",
        "import seaborn as sns\n",
        "import numpy as np\n",
        "import matplotlib.pyplot as plt\n",
        "import itertools\n",
        "import pingouin as pg\n",
        "from scipy.spatial.distance import mahalanobis\n",
        "from numpy.linalg import inv\n",
        "from scipy.stats import chi2\n",
        "from sklearn.covariance import MinCovDet"
      ],
      "metadata": {
        "id": "s-Cs_BBvNdTW"
      },
      "execution_count": null,
      "outputs": []
    },
    {
      "cell_type": "markdown",
      "source": [
        "# TURF"
      ],
      "metadata": {
        "id": "1aNZC2cnMnVJ"
      }
    },
    {
      "cell_type": "markdown",
      "source": [
        "Misalkan sebuah perusahaan Edutech berencana meluncurkan layanan bimbingan belajar (bimbel) secara daring untuk siswa jenjang SD, SMP, dan SMA,\n",
        "Dalam pengembangan layanan bimbingan belajar, perusahaan edutect tentu tidak dapat langsung menyediakan semua fitur secara bersamaan karena keterbatasan sumber daya. Oleh karena itu dilakukan penelitian untuk mengidentifikasi kombinasi fitur yang paling optimal dan sesuai dengan preferensi pengguna dari masing-masing jenjang pendidikan."
      ],
      "metadata": {
        "id": "InyN9mY4ev9q"
      }
    },
    {
      "cell_type": "code",
      "source": [
        "import pandas as pd\n",
        "import numpy as np\n",
        "\n",
        "np.random.seed(42) # untuk hasil yang konsisten\n",
        "\n",
        "# List fitur bimbel yang umum untuk semua jenjang\n",
        "fitur_list = [\n",
        "    \"Quiz interaktif\", \"Video pembelajaran\", \"Sistem poin & reward\", \"Fitur chat dengan tutor\",\n",
        "    \"Materi Animasi\",\"Pengajar Berpengalaman\", \"Reminder belajar\", \"Latihan Soal\",\n",
        "]\n",
        "\n",
        "kategori_siswa = ['SD', 'SMP', 'SMA']\n",
        "n_per_group = 150  # jumlah responden per jenjang\n",
        "\n",
        "# Buat DataFrame kosong untuk menampung data\n",
        "data = pd.DataFrame()\n",
        "\n",
        "for kategori in kategori_siswa:\n",
        "    # Generate data 0/1 random dengan probabilitas 40% suka fitur\n",
        "    arr = np.random.choice([0, 1], size=(n_per_group, len(fitur_list)), p=[0.6, 0.4])\n",
        "    df_kategori = pd.DataFrame(arr, columns=fitur_list)\n",
        "    df_kategori['Kategori'] = kategori\n",
        "    data = pd.concat([data, df_kategori], ignore_index=True)\n",
        "\n",
        "print(data.head())\n",
        "\n",
        "# Simpan ke Excel\n",
        "data.to_excel(\"fitur_bimbel.xlsx\", index=False)"
      ],
      "metadata": {
        "id": "0NZ7eEqGlhI7",
        "colab": {
          "base_uri": "https://localhost:8080/"
        },
        "outputId": "3aa4c3c8-d159-4dba-ddfd-65d7ecc30e95"
      },
      "execution_count": null,
      "outputs": [
        {
          "output_type": "stream",
          "name": "stdout",
          "text": [
            "   Quiz interaktif  Video pembelajaran  Sistem poin & reward  \\\n",
            "0                0                   1                     1   \n",
            "1                1                   1                     0   \n",
            "2                0                   0                     0   \n",
            "3                0                   1                     0   \n",
            "4                0                   1                     1   \n",
            "\n",
            "   Fitur chat dengan tutor  Materi Animasi  Pengajar Berpengalaman  \\\n",
            "0                        0               0                       0   \n",
            "1                        1               1                       0   \n",
            "2                        0               1                       0   \n",
            "3                        0               0                       0   \n",
            "4                        1               0                       0   \n",
            "\n",
            "   Reminder belajar  Latihan Soal Kategori  \n",
            "0                 0             1       SD  \n",
            "1                 0             0       SD  \n",
            "2                 0             0       SD  \n",
            "3                 1             0       SD  \n",
            "4                 1             0       SD  \n"
          ]
        }
      ]
    },
    {
      "cell_type": "code",
      "source": [
        "import pandas as pd\n",
        "\n",
        "# Baca data dari file Excel\n",
        "data_path = \"/content/fitur_bimbel.xlsx\"\n",
        "df = pd.read_excel(data_path)\n",
        "\n",
        "fitur_list = [\n",
        "    \"Quiz interaktif\", \"Video pembelajaran\", \"Sistem poin & reward\", \"Fitur chat dengan tutor\",\n",
        "    \"Materi Animasi\", \"Pengajar Berpengalaman\", \"Reminder belajar\", \"Latihan Soal\",\n",
        "]\n",
        "\n",
        "kategori_siswa = ['SD', 'SMP', 'SMA']\n",
        "\n",
        "print(\"Jumlah siswa yang menyukai masing-masing fitur bimbel per kategori:\")\n",
        "\n",
        "for fitur in fitur_list:\n",
        "    if fitur in df.columns:\n",
        "        print(f\"\\nFitur: {fitur}\")\n",
        "        for kategori in kategori_siswa:\n",
        "            total_suka = df[df['Kategori'] == kategori][fitur].sum()\n",
        "            print(f\"  {kategori}: {total_suka}\")\n",
        "    else:\n",
        "        print(f\"Kolom {fitur} tidak ditemukan.\")"
      ],
      "metadata": {
        "colab": {
          "base_uri": "https://localhost:8080/"
        },
        "id": "cpbGAiSesv2c",
        "outputId": "052595ed-7646-4c39-fca2-869cd18c8457"
      },
      "execution_count": null,
      "outputs": [
        {
          "output_type": "stream",
          "name": "stdout",
          "text": [
            "Jumlah siswa yang menyukai masing-masing fitur bimbel per kategori:\n",
            "\n",
            "Fitur: Quiz interaktif\n",
            "  SD: 56\n",
            "  SMP: 68\n",
            "  SMA: 67\n",
            "\n",
            "Fitur: Video pembelajaran\n",
            "  SD: 57\n",
            "  SMP: 64\n",
            "  SMA: 51\n",
            "\n",
            "Fitur: Sistem poin & reward\n",
            "  SD: 51\n",
            "  SMP: 62\n",
            "  SMA: 53\n",
            "\n",
            "Fitur: Fitur chat dengan tutor\n",
            "  SD: 72\n",
            "  SMP: 58\n",
            "  SMA: 70\n",
            "\n",
            "Fitur: Materi Animasi\n",
            "  SD: 66\n",
            "  SMP: 64\n",
            "  SMA: 55\n",
            "\n",
            "Fitur: Pengajar Berpengalaman\n",
            "  SD: 60\n",
            "  SMP: 55\n",
            "  SMA: 68\n",
            "\n",
            "Fitur: Reminder belajar\n",
            "  SD: 69\n",
            "  SMP: 61\n",
            "  SMA: 65\n",
            "\n",
            "Fitur: Latihan Soal\n",
            "  SD: 55\n",
            "  SMP: 62\n",
            "  SMA: 58\n"
          ]
        }
      ]
    },
    {
      "cell_type": "markdown",
      "source": [
        "# Visualisasi Data"
      ],
      "metadata": {
        "id": "fv8zLfHroNxk"
      }
    },
    {
      "cell_type": "code",
      "source": [
        "import pandas as pd\n",
        "import matplotlib.pyplot as plt\n",
        "\n",
        "# === PARAMETER ===\n",
        "file_path = \"fitur_bimbel.xlsx\" #@param\n",
        "Kategori = 'All' # @param [\"All\", \"SD\", \"SMP\", \"SMA\"]\n",
        "Target_dalam_persen =  80# @param\n",
        "\n",
        "\n",
        "# Baca data dari Excel\n",
        "data = pd.read_excel(file_path)\n",
        "\n",
        "# Filter data berdasarkan kategori jika bukan 'All'\n",
        "if Kategori != 'All':\n",
        "    data_used = data[data['Kategori'] == Kategori].reset_index(drop=True)\n",
        "else:\n",
        "    data_used = data.copy()\n",
        "\n",
        "# Drop kolom 'Kategori' supaya tinggal fitur-fitur saja\n",
        "if 'Kategori' in data_used.columns:\n",
        "    data_used = data_used.drop(columns=['Kategori'])\n",
        "\n",
        "# === SETUP ===\n",
        "target_reach_pct = Target_dalam_persen / 100\n",
        "target_reach = int(target_reach_pct * len(data_used))\n",
        "\n",
        "# Daftar fitur (semua kolom sekarang)\n",
        "item_cols = data_used.columns.tolist()\n",
        "\n",
        "# Hitung reach per fitur (jumlah responden yang memilih fitur)\n",
        "reach_per_item = data_used[item_cols].sum(axis=0).sort_values(ascending=False)\n",
        "\n",
        "# === GREEDY ALGORITHM untuk pilih fitur agar reach optimal ===\n",
        "selected_items = []\n",
        "current_reach = set()\n",
        "reach_progress = []\n",
        "\n",
        "for item in reach_per_item.index:\n",
        "    new_reach = current_reach | set(data_used.index[data_used[item] == 1])\n",
        "    selected_items.append(item)\n",
        "    reach_progress.append(len(new_reach) / len(data_used))\n",
        "\n",
        "    if len(new_reach) >= target_reach:\n",
        "        break\n",
        "\n",
        "    current_reach = new_reach\n",
        "\n",
        "# Hitung incremental reach tiap tambahan fitur\n",
        "incrementals = [reach_progress[0]] + [reach_progress[i] - reach_progress[i - 1] for i in range(1, len(reach_progress))]\n",
        "\n",
        "# === VISUALISASI ===\n",
        "plt.figure(figsize=(12, 6))\n",
        "bottoms = 0\n",
        "for i, inc in enumerate(incrementals):\n",
        "    plt.bar(f\"{i + 1}\", inc * 100, bottom=bottoms, color=\"#4c72b0\")\n",
        "    plt.text(i, bottoms + inc * 50, f\"{inc * 100:.1f}%\", ha='center', va='bottom', fontsize=9)\n",
        "    bottoms += inc * 100\n",
        "\n",
        "plt.axhline(y=target_reach_pct * 100, color='r', linestyle='--', label=f'Target {target_reach_pct * 100:.0f}%')\n",
        "\n",
        "plt.bar(f\"{len(selected_items)} fitur\", reach_progress[-1] * 100, color=\"orange\")\n",
        "plt.text(len(selected_items), reach_progress[-1] * 100 + 1, f\"{reach_progress[-1] * 100:.1f}%\",\n",
        "         ha='center', va='bottom', fontsize=10, fontweight='bold')\n",
        "\n",
        "plt.xlabel(\"Jumlah Fitur Bimbel yang Dipilih\")\n",
        "plt.ylabel(\"Total Reach (%)\")\n",
        "plt.title(f\"TURF Analysis: Reach vs. Jumlah Fitur(Kategori {Kategori})\")\n",
        "plt.legend()\n",
        "plt.grid(True)\n",
        "plt.tight_layout()\n",
        "plt.show()\n",
        "\n",
        "# === OUTPUT ===\n",
        "max_reach = max(reach_progress)\n",
        "if max_reach >= target_reach_pct:\n",
        "    print(f\"✅ Untuk mencapai minimal {target_reach_pct*100:.0f}%, perlu {len(selected_items)} fitur.\")\n",
        "else:\n",
        "    print(f\"⚠️ Tidak dapat mencapai {target_reach_pct*100:.0f}%. Maksimal hanya {max_reach*100:.1f}% dengan {len(selected_items)} fitur.\")\n",
        "\n",
        "print(\"\\n📌 Fitur yang dipilih agar optimal:\")\n",
        "for i, fitur in enumerate(selected_items, 1):\n",
        "    print(f\"{i}. {fitur}\")"
      ],
      "metadata": {
        "colab": {
          "base_uri": "https://localhost:8080/",
          "height": 288
        },
        "id": "dPCUH1dEjLkg",
        "outputId": "b8c0f071-e1a2-4246-eeb2-86f906c1a54f"
      },
      "execution_count": null,
      "outputs": [
        {
          "output_type": "display_data",
          "data": {
            "text/plain": [
              "<Figure size 1200x600 with 1 Axes>"
            ],
            "image/png": "[encoded data removed]"
          },
          "metadata": {}
        },
        {
          "output_type": "stream",
          "name": "stdout",
          "text": [
            "✅ Untuk mencapai minimal 80%, perlu 3 fitur.\n",
            "\n",
            "📌 Fitur yang dipilih agar optimal:\n",
            "1. Fitur chat dengan tutor\n",
            "2. Reminder belajar\n",
            "3. Quiz interaktif\n"
          ]
        }
      ]
    },
    {
      "cell_type": "markdown",
      "source": [
        "Kesimpulan berdasarkan Analis Turf :\n",
        "\n",
        "1. Kategori SD :\n",
        "Target jangkauan sebesar 80% berhasil dicapai dengan kombinasi tiga fitur bimbingan belajar, yaitu fitur chat dengan tutor,reminder belajar dan materi animasi,sehingga kombinasi tersebut sudah optimal.\n",
        "\n",
        "2. Kategori SMP:\n",
        "Target jangkauan sebesar 80% juga berhasil dicapai dengan baik. Kombinasi tiga fitur bimbingan belajar yang optimal terdiri dari materi animasi, quiz interaktif dan video pembelajaran.\n",
        "\n",
        "3. Kategori SMA:\n",
        "Target jangkauan sebesar 80% berhasil dicapai secara optimal dengan kombinasi tiga fitur bimbingan belajar, yaitu fitur chat dengan tutor, pengajar berpengalaman dan quiz interaktif.\n",
        "\n",
        "4. Kategori All (SD, SMP, SMA):\n",
        "Untuk menjangkau semua kategori sekaligus,dibutuhkan kombinasi tiga fitur bimbingan belajar yang optimal, yaitu fitur chat dengan tutor, quiz interaktif dan reminder belajar.\n",
        "\n",
        "Kesimpulan Umum:\n",
        "Secara keseluruhan, analisis TURF menunjukkan bahwa dengan kombinasi tiga fitur bimbingan belajar berdasarkan kategori siswa SD, SMP, dan SMA sudah cukup untuk mencapai bahkan melampaui target jangkauan 80%, tanpa perlu menambah fitur tambahan yang dapat menambah kompleksitas layanan."
      ],
      "metadata": {
        "id": "n7qY--tHp8bg"
      }
    }
  ]
}